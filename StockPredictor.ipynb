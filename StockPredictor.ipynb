{
  "nbformat": 4,
  "nbformat_minor": 0,
  "metadata": {
    "colab": {
      "name": "Untitled8.ipynb",
      "provenance": [],
      "include_colab_link": true
    },
    "kernelspec": {
      "name": "python3",
      "display_name": "Python 3"
    }
  },
  "cells": [
    {
      "cell_type": "markdown",
      "metadata": {
        "id": "view-in-github",
        "colab_type": "text"
      },
      "source": [
        "<a href=\"https://colab.research.google.com/github/jacob-abe/AIlab/blob/master/StockPredictor.ipynb\" target=\"_parent\"><img src=\"https://colab.research.google.com/assets/colab-badge.svg\" alt=\"Open In Colab\"/></a>"
      ]
    },
    {
      "cell_type": "code",
      "metadata": {
        "id": "XrDbPLSwqS2P",
        "colab_type": "code",
        "colab": {
          "base_uri": "https://localhost:8080/",
          "height": 206
        },
        "outputId": "acf4ae6e-194a-4b9e-ec1b-67d13e5732b5"
      },
      "source": [
        "import numpy as np\n",
        "from sklearn.svm import SVR \n",
        "import matplotlib.pyplot as plt \n",
        "import pandas as pd \n",
        "\n",
        "%matplotlib inline\n",
        "from stockai import Stock\n",
        "\n",
        "td = Stock('TD.TO')\n",
        "prices_list = td.get_historical_prices('2019-01-01', '2019-01-30')\n",
        "\n",
        "df = pd.DataFrame.from_dict(prices_list)\n",
        "df.head()"
      ],
      "execution_count": 2,
      "outputs": [
        {
          "output_type": "execute_result",
          "data": {
            "text/html": [
              "<div>\n",
              "<style scoped>\n",
              "    .dataframe tbody tr th:only-of-type {\n",
              "        vertical-align: middle;\n",
              "    }\n",
              "\n",
              "    .dataframe tbody tr th {\n",
              "        vertical-align: top;\n",
              "    }\n",
              "\n",
              "    .dataframe thead th {\n",
              "        text-align: right;\n",
              "    }\n",
              "</style>\n",
              "<table border=\"1\" class=\"dataframe\">\n",
              "  <thead>\n",
              "    <tr style=\"text-align: right;\">\n",
              "      <th></th>\n",
              "      <th>high</th>\n",
              "      <th>close</th>\n",
              "      <th>low</th>\n",
              "      <th>volume</th>\n",
              "      <th>open</th>\n",
              "      <th>date</th>\n",
              "      <th>adjclose</th>\n",
              "    </tr>\n",
              "  </thead>\n",
              "  <tbody>\n",
              "    <tr>\n",
              "      <th>0</th>\n",
              "      <td>68.430000</td>\n",
              "      <td>68.250000</td>\n",
              "      <td>67.120003</td>\n",
              "      <td>3930300</td>\n",
              "      <td>67.510002</td>\n",
              "      <td>2019-01-02</td>\n",
              "      <td>65.599342</td>\n",
              "    </tr>\n",
              "    <tr>\n",
              "      <th>1</th>\n",
              "      <td>68.110001</td>\n",
              "      <td>67.300003</td>\n",
              "      <td>67.120003</td>\n",
              "      <td>5407700</td>\n",
              "      <td>68.110001</td>\n",
              "      <td>2019-01-03</td>\n",
              "      <td>64.686241</td>\n",
              "    </tr>\n",
              "    <tr>\n",
              "      <th>2</th>\n",
              "      <td>68.150002</td>\n",
              "      <td>67.980003</td>\n",
              "      <td>67.669998</td>\n",
              "      <td>5103400</td>\n",
              "      <td>68.000000</td>\n",
              "      <td>2019-01-04</td>\n",
              "      <td>65.339836</td>\n",
              "    </tr>\n",
              "    <tr>\n",
              "      <th>3</th>\n",
              "      <td>68.589996</td>\n",
              "      <td>67.690002</td>\n",
              "      <td>67.449997</td>\n",
              "      <td>5907000</td>\n",
              "      <td>68.589996</td>\n",
              "      <td>2019-01-07</td>\n",
              "      <td>65.061096</td>\n",
              "    </tr>\n",
              "    <tr>\n",
              "      <th>4</th>\n",
              "      <td>68.190002</td>\n",
              "      <td>67.820000</td>\n",
              "      <td>67.330002</td>\n",
              "      <td>7337200</td>\n",
              "      <td>68.000000</td>\n",
              "      <td>2019-01-08</td>\n",
              "      <td>65.186050</td>\n",
              "    </tr>\n",
              "  </tbody>\n",
              "</table>\n",
              "</div>"
            ],
            "text/plain": [
              "        high      close        low   volume       open        date   adjclose\n",
              "0  68.430000  68.250000  67.120003  3930300  67.510002  2019-01-02  65.599342\n",
              "1  68.110001  67.300003  67.120003  5407700  68.110001  2019-01-03  64.686241\n",
              "2  68.150002  67.980003  67.669998  5103400  68.000000  2019-01-04  65.339836\n",
              "3  68.589996  67.690002  67.449997  5907000  68.589996  2019-01-07  65.061096\n",
              "4  68.190002  67.820000  67.330002  7337200  68.000000  2019-01-08  65.186050"
            ]
          },
          "metadata": {
            "tags": []
          },
          "execution_count": 2
        }
      ]
    },
    {
      "cell_type": "code",
      "metadata": {
        "id": "lvnyT3vxqlFD",
        "colab_type": "code",
        "colab": {
          "base_uri": "https://localhost:8080/",
          "height": 352
        },
        "outputId": "0328e63d-f61b-458a-cf48-b0f23269b522"
      },
      "source": [
        "# Get data function\n",
        "def get_data(df):  \n",
        "    data = df.copy()\n",
        "    data['date'] = data['date'].str.split('-').str[2]\n",
        "    data['date'] = pd.to_numeric(data['date'])\n",
        "    return [ data['date'].tolist(), data['close'].tolist() ]\n",
        "dates, prices = get_data(df)\n",
        "\n",
        "# predict and plot function\n",
        "def predict_prices(dates, prices, x):\n",
        "    dates = np.reshape(dates,(len(dates), 1))\n",
        "    x = np.reshape(x,(len(x), 1))\n",
        "    \n",
        "    svr_lin  = SVR(kernel='linear', C=1e3)\n",
        "    svr_poly = SVR(kernel='poly', C=1e3, degree=2)\n",
        "    svr_rbf = SVR(kernel='rbf', C=1e3, gamma=0.1)\n",
        "    \n",
        "    # Fit regression model\n",
        "    svr_lin .fit(dates, prices)\n",
        "    svr_poly.fit(dates, prices)\n",
        "    svr_rbf.fit(dates, prices)\n",
        "    \n",
        "    plt.scatter(dates, prices, c='k', label='Data')\n",
        "    plt.plot(dates, svr_lin.predict(dates), c='g', label='Linear model')\n",
        "    plt.plot(dates, svr_rbf.predict(dates), c='r', label='RBF model')    \n",
        "    plt.plot(dates, svr_poly.predict(dates), c='b', label='Polynomial model')\n",
        "    \n",
        "    plt.xlabel('Date')\n",
        "    plt.ylabel('Price')\n",
        "    plt.title('Support Vector Regression')\n",
        "    plt.legend()\n",
        "    plt.show()\n",
        "    \n",
        "    return svr_rbf.predict(x)[0], svr_lin.predict(x)[0], svr_poly.predict(x)[0]\n",
        "predicted_price = predict_prices(dates, prices, [31])"
      ],
      "execution_count": 3,
      "outputs": [
        {
          "output_type": "stream",
          "text": [
            "/usr/local/lib/python3.6/dist-packages/sklearn/svm/base.py:193: FutureWarning: The default value of gamma will change from 'auto' to 'scale' in version 0.22 to account better for unscaled features. Set gamma explicitly to 'auto' or 'scale' to avoid this warning.\n",
            "  \"avoid this warning.\", FutureWarning)\n"
          ],
          "name": "stderr"
        },
        {
          "output_type": "display_data",
          "data": {
            "image/png": "[encoded data removed]",
            "text/plain": [
              "<Figure size 432x288 with 1 Axes>"
            ]
          },
          "metadata": {
            "tags": []
          }
        }
      ]
    }
  ]
}